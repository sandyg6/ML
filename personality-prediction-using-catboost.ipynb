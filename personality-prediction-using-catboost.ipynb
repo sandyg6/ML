{
 "cells": [
  {
   "cell_type": "code",
   "execution_count": 1,
   "id": "1423bb67",
   "metadata": {
    "_cell_guid": "b1076dfc-b9ad-4769-8c92-a6c4dae69d19",
    "_uuid": "8f2839f25d086af736a60e9eeb907d3b93b6e0e5",
    "execution": {
     "iopub.execute_input": "2025-07-25T04:52:25.662827Z",
     "iopub.status.busy": "2025-07-25T04:52:25.662419Z",
     "iopub.status.idle": "2025-07-25T04:52:27.414678Z",
     "shell.execute_reply": "2025-07-25T04:52:27.413747Z"
    },
    "papermill": {
     "duration": 1.763158,
     "end_time": "2025-07-25T04:52:27.416232",
     "exception": false,
     "start_time": "2025-07-25T04:52:25.653074",
     "status": "completed"
    },
    "tags": []
   },
   "outputs": [
    {
     "name": "stdout",
     "output_type": "stream",
     "text": [
      "/kaggle/input/playground-series-s5e7/sample_submission.csv\n",
      "/kaggle/input/playground-series-s5e7/train.csv\n",
      "/kaggle/input/playground-series-s5e7/test.csv\n"
     ]
    }
   ],
   "source": [
    "# This Python 3 environment comes with many helpful analytics libraries installed\n",
    "# It is defined by the kaggle/python Docker image: https://github.com/kaggle/docker-python\n",
    "# For example, here's several helpful packages to load\n",
    "\n",
    "import numpy as np # linear algebra\n",
    "import pandas as pd # data processing, CSV file I/O (e.g. pd.read_csv)\n",
    "\n",
    "# Input data files are available in the read-only \"../input/\" directory\n",
    "# For example, running this (by clicking run or pressing Shift+Enter) will list all files under the input directory\n",
    "\n",
    "import os\n",
    "for dirname, _, filenames in os.walk('/kaggle/input'):\n",
    "    for filename in filenames:\n",
    "        print(os.path.join(dirname, filename))\n",
    "\n",
    "# You can write up to 20GB to the current directory (/kaggle/working/) that gets preserved as output when you create a version using \"Save & Run All\" \n",
    "# You can also write temporary files to /kaggle/temp/, but they won't be saved outside of the current session"
   ]
  },
  {
   "cell_type": "markdown",
   "id": "15d11285",
   "metadata": {
    "papermill": {
     "duration": 0.007281,
     "end_time": "2025-07-25T04:52:27.431429",
     "exception": false,
     "start_time": "2025-07-25T04:52:27.424148",
     "status": "completed"
    },
    "tags": []
   },
   "source": [
    "## Data Loading"
   ]
  },
  {
   "cell_type": "code",
   "execution_count": 2,
   "id": "e1481f62",
   "metadata": {
    "execution": {
     "iopub.execute_input": "2025-07-25T04:52:27.446574Z",
     "iopub.status.busy": "2025-07-25T04:52:27.446164Z",
     "iopub.status.idle": "2025-07-25T04:52:27.502724Z",
     "shell.execute_reply": "2025-07-25T04:52:27.501904Z"
    },
    "papermill": {
     "duration": 0.066053,
     "end_time": "2025-07-25T04:52:27.504363",
     "exception": false,
     "start_time": "2025-07-25T04:52:27.438310",
     "status": "completed"
    },
    "tags": []
   },
   "outputs": [],
   "source": [
    "train_data = pd.read_csv(\"/kaggle/input/playground-series-s5e7/train.csv\")\n",
    "test_data = pd.read_csv(\"/kaggle/input/playground-series-s5e7/test.csv\")"
   ]
  },
  {
   "cell_type": "markdown",
   "id": "9d7beb08",
   "metadata": {
    "papermill": {
     "duration": 0.006787,
     "end_time": "2025-07-25T04:52:27.519731",
     "exception": false,
     "start_time": "2025-07-25T04:52:27.512944",
     "status": "completed"
    },
    "tags": []
   },
   "source": [
    "## Train data preprocessing"
   ]
  },
  {
   "cell_type": "code",
   "execution_count": 3,
   "id": "996fb58d",
   "metadata": {
    "execution": {
     "iopub.execute_input": "2025-07-25T04:52:27.535051Z",
     "iopub.status.busy": "2025-07-25T04:52:27.534088Z",
     "iopub.status.idle": "2025-07-25T04:52:27.566234Z",
     "shell.execute_reply": "2025-07-25T04:52:27.565161Z"
    },
    "papermill": {
     "duration": 0.041586,
     "end_time": "2025-07-25T04:52:27.567923",
     "exception": false,
     "start_time": "2025-07-25T04:52:27.526337",
     "status": "completed"
    },
    "tags": []
   },
   "outputs": [
    {
     "name": "stdout",
     "output_type": "stream",
     "text": [
      "<class 'pandas.core.frame.DataFrame'>\n",
      "RangeIndex: 18524 entries, 0 to 18523\n",
      "Data columns (total 9 columns):\n",
      " #   Column                     Non-Null Count  Dtype  \n",
      "---  ------                     --------------  -----  \n",
      " 0   id                         18524 non-null  int64  \n",
      " 1   Time_spent_Alone           17334 non-null  float64\n",
      " 2   Stage_fear                 16631 non-null  object \n",
      " 3   Social_event_attendance    17344 non-null  float64\n",
      " 4   Going_outside              17058 non-null  float64\n",
      " 5   Drained_after_socializing  17375 non-null  object \n",
      " 6   Friends_circle_size        17470 non-null  float64\n",
      " 7   Post_frequency             17260 non-null  float64\n",
      " 8   Personality                18524 non-null  object \n",
      "dtypes: float64(5), int64(1), object(3)\n",
      "memory usage: 1.3+ MB\n"
     ]
    }
   ],
   "source": [
    "train_data.info()"
   ]
  },
  {
   "cell_type": "code",
   "execution_count": 4,
   "id": "df1b9a24",
   "metadata": {
    "execution": {
     "iopub.execute_input": "2025-07-25T04:52:27.583150Z",
     "iopub.status.busy": "2025-07-25T04:52:27.582837Z",
     "iopub.status.idle": "2025-07-25T04:52:28.962679Z",
     "shell.execute_reply": "2025-07-25T04:52:28.961724Z"
    },
    "papermill": {
     "duration": 1.389678,
     "end_time": "2025-07-25T04:52:28.964645",
     "exception": false,
     "start_time": "2025-07-25T04:52:27.574967",
     "status": "completed"
    },
    "tags": []
   },
   "outputs": [],
   "source": [
    "from sklearn.preprocessing import LabelEncoder"
   ]
  },
  {
   "cell_type": "code",
   "execution_count": 5,
   "id": "f2a5ce33",
   "metadata": {
    "execution": {
     "iopub.execute_input": "2025-07-25T04:52:28.981007Z",
     "iopub.status.busy": "2025-07-25T04:52:28.979951Z",
     "iopub.status.idle": "2025-07-25T04:52:29.017974Z",
     "shell.execute_reply": "2025-07-25T04:52:29.016961Z"
    },
    "papermill": {
     "duration": 0.047698,
     "end_time": "2025-07-25T04:52:29.019811",
     "exception": false,
     "start_time": "2025-07-25T04:52:28.972113",
     "status": "completed"
    },
    "tags": []
   },
   "outputs": [
    {
     "name": "stderr",
     "output_type": "stream",
     "text": [
      "/usr/local/lib/python3.11/dist-packages/pandas/io/formats/format.py:1458: RuntimeWarning: invalid value encountered in greater\n",
      "  has_large_values = (abs_vals > 1e6).any()\n",
      "/usr/local/lib/python3.11/dist-packages/pandas/io/formats/format.py:1459: RuntimeWarning: invalid value encountered in less\n",
      "  has_small_values = ((abs_vals < 10 ** (-self.digits)) & (abs_vals > 0)).any()\n",
      "/usr/local/lib/python3.11/dist-packages/pandas/io/formats/format.py:1459: RuntimeWarning: invalid value encountered in greater\n",
      "  has_small_values = ((abs_vals < 10 ** (-self.digits)) & (abs_vals > 0)).any()\n"
     ]
    },
    {
     "data": {
      "text/html": [
       "<div>\n",
       "<style scoped>\n",
       "    .dataframe tbody tr th:only-of-type {\n",
       "        vertical-align: middle;\n",
       "    }\n",
       "\n",
       "    .dataframe tbody tr th {\n",
       "        vertical-align: top;\n",
       "    }\n",
       "\n",
       "    .dataframe thead th {\n",
       "        text-align: right;\n",
       "    }\n",
       "</style>\n",
       "<table border=\"1\" class=\"dataframe\">\n",
       "  <thead>\n",
       "    <tr style=\"text-align: right;\">\n",
       "      <th></th>\n",
       "      <th>id</th>\n",
       "      <th>Time_spent_Alone</th>\n",
       "      <th>Stage_fear</th>\n",
       "      <th>Social_event_attendance</th>\n",
       "      <th>Going_outside</th>\n",
       "      <th>Drained_after_socializing</th>\n",
       "      <th>Friends_circle_size</th>\n",
       "      <th>Post_frequency</th>\n",
       "      <th>Personality</th>\n",
       "    </tr>\n",
       "  </thead>\n",
       "  <tbody>\n",
       "    <tr>\n",
       "      <th>0</th>\n",
       "      <td>0</td>\n",
       "      <td>0.0</td>\n",
       "      <td>No</td>\n",
       "      <td>6.0</td>\n",
       "      <td>4.0</td>\n",
       "      <td>No</td>\n",
       "      <td>15.0</td>\n",
       "      <td>5.0</td>\n",
       "      <td>Extrovert</td>\n",
       "    </tr>\n",
       "    <tr>\n",
       "      <th>1</th>\n",
       "      <td>1</td>\n",
       "      <td>1.0</td>\n",
       "      <td>No</td>\n",
       "      <td>7.0</td>\n",
       "      <td>3.0</td>\n",
       "      <td>No</td>\n",
       "      <td>10.0</td>\n",
       "      <td>8.0</td>\n",
       "      <td>Extrovert</td>\n",
       "    </tr>\n",
       "    <tr>\n",
       "      <th>2</th>\n",
       "      <td>2</td>\n",
       "      <td>6.0</td>\n",
       "      <td>Yes</td>\n",
       "      <td>1.0</td>\n",
       "      <td>0.0</td>\n",
       "      <td>NaN</td>\n",
       "      <td>3.0</td>\n",
       "      <td>0.0</td>\n",
       "      <td>Introvert</td>\n",
       "    </tr>\n",
       "    <tr>\n",
       "      <th>3</th>\n",
       "      <td>3</td>\n",
       "      <td>3.0</td>\n",
       "      <td>No</td>\n",
       "      <td>7.0</td>\n",
       "      <td>3.0</td>\n",
       "      <td>No</td>\n",
       "      <td>11.0</td>\n",
       "      <td>5.0</td>\n",
       "      <td>Extrovert</td>\n",
       "    </tr>\n",
       "    <tr>\n",
       "      <th>4</th>\n",
       "      <td>4</td>\n",
       "      <td>1.0</td>\n",
       "      <td>No</td>\n",
       "      <td>4.0</td>\n",
       "      <td>4.0</td>\n",
       "      <td>No</td>\n",
       "      <td>13.0</td>\n",
       "      <td>NaN</td>\n",
       "      <td>Extrovert</td>\n",
       "    </tr>\n",
       "    <tr>\n",
       "      <th>...</th>\n",
       "      <td>...</td>\n",
       "      <td>...</td>\n",
       "      <td>...</td>\n",
       "      <td>...</td>\n",
       "      <td>...</td>\n",
       "      <td>...</td>\n",
       "      <td>...</td>\n",
       "      <td>...</td>\n",
       "      <td>...</td>\n",
       "    </tr>\n",
       "    <tr>\n",
       "      <th>18519</th>\n",
       "      <td>18519</td>\n",
       "      <td>3.0</td>\n",
       "      <td>No</td>\n",
       "      <td>7.0</td>\n",
       "      <td>3.0</td>\n",
       "      <td>No</td>\n",
       "      <td>9.0</td>\n",
       "      <td>7.0</td>\n",
       "      <td>Extrovert</td>\n",
       "    </tr>\n",
       "    <tr>\n",
       "      <th>18520</th>\n",
       "      <td>18520</td>\n",
       "      <td>1.0</td>\n",
       "      <td>NaN</td>\n",
       "      <td>6.0</td>\n",
       "      <td>7.0</td>\n",
       "      <td>No</td>\n",
       "      <td>6.0</td>\n",
       "      <td>5.0</td>\n",
       "      <td>Extrovert</td>\n",
       "    </tr>\n",
       "    <tr>\n",
       "      <th>18521</th>\n",
       "      <td>18521</td>\n",
       "      <td>7.0</td>\n",
       "      <td>Yes</td>\n",
       "      <td>1.0</td>\n",
       "      <td>1.0</td>\n",
       "      <td>Yes</td>\n",
       "      <td>1.0</td>\n",
       "      <td>NaN</td>\n",
       "      <td>Introvert</td>\n",
       "    </tr>\n",
       "    <tr>\n",
       "      <th>18522</th>\n",
       "      <td>18522</td>\n",
       "      <td>NaN</td>\n",
       "      <td>Yes</td>\n",
       "      <td>1.0</td>\n",
       "      <td>0.0</td>\n",
       "      <td>Yes</td>\n",
       "      <td>5.0</td>\n",
       "      <td>2.0</td>\n",
       "      <td>Introvert</td>\n",
       "    </tr>\n",
       "    <tr>\n",
       "      <th>18523</th>\n",
       "      <td>18523</td>\n",
       "      <td>1.0</td>\n",
       "      <td>No</td>\n",
       "      <td>8.0</td>\n",
       "      <td>6.0</td>\n",
       "      <td>No</td>\n",
       "      <td>4.0</td>\n",
       "      <td>7.0</td>\n",
       "      <td>Extrovert</td>\n",
       "    </tr>\n",
       "  </tbody>\n",
       "</table>\n",
       "<p>18524 rows × 9 columns</p>\n",
       "</div>"
      ],
      "text/plain": [
       "          id  Time_spent_Alone Stage_fear  Social_event_attendance  \\\n",
       "0          0               0.0         No                      6.0   \n",
       "1          1               1.0         No                      7.0   \n",
       "2          2               6.0        Yes                      1.0   \n",
       "3          3               3.0         No                      7.0   \n",
       "4          4               1.0         No                      4.0   \n",
       "...      ...               ...        ...                      ...   \n",
       "18519  18519               3.0         No                      7.0   \n",
       "18520  18520               1.0        NaN                      6.0   \n",
       "18521  18521               7.0        Yes                      1.0   \n",
       "18522  18522               NaN        Yes                      1.0   \n",
       "18523  18523               1.0         No                      8.0   \n",
       "\n",
       "       Going_outside Drained_after_socializing  Friends_circle_size  \\\n",
       "0                4.0                        No                 15.0   \n",
       "1                3.0                        No                 10.0   \n",
       "2                0.0                       NaN                  3.0   \n",
       "3                3.0                        No                 11.0   \n",
       "4                4.0                        No                 13.0   \n",
       "...              ...                       ...                  ...   \n",
       "18519            3.0                        No                  9.0   \n",
       "18520            7.0                        No                  6.0   \n",
       "18521            1.0                       Yes                  1.0   \n",
       "18522            0.0                       Yes                  5.0   \n",
       "18523            6.0                        No                  4.0   \n",
       "\n",
       "       Post_frequency Personality  \n",
       "0                 5.0   Extrovert  \n",
       "1                 8.0   Extrovert  \n",
       "2                 0.0   Introvert  \n",
       "3                 5.0   Extrovert  \n",
       "4                 NaN   Extrovert  \n",
       "...               ...         ...  \n",
       "18519             7.0   Extrovert  \n",
       "18520             5.0   Extrovert  \n",
       "18521             NaN   Introvert  \n",
       "18522             2.0   Introvert  \n",
       "18523             7.0   Extrovert  \n",
       "\n",
       "[18524 rows x 9 columns]"
      ]
     },
     "execution_count": 5,
     "metadata": {},
     "output_type": "execute_result"
    }
   ],
   "source": [
    "train_data"
   ]
  },
  {
   "cell_type": "code",
   "execution_count": 6,
   "id": "e75f4316",
   "metadata": {
    "execution": {
     "iopub.execute_input": "2025-07-25T04:52:29.042502Z",
     "iopub.status.busy": "2025-07-25T04:52:29.042044Z",
     "iopub.status.idle": "2025-07-25T04:52:29.059305Z",
     "shell.execute_reply": "2025-07-25T04:52:29.058337Z"
    },
    "papermill": {
     "duration": 0.031141,
     "end_time": "2025-07-25T04:52:29.061384",
     "exception": false,
     "start_time": "2025-07-25T04:52:29.030243",
     "status": "completed"
    },
    "tags": []
   },
   "outputs": [],
   "source": [
    "numerical_cols = ['Time_spent_Alone', 'Social_event_attendance', 'Going_outside', 'Friends_circle_size', 'Post_frequency']\n",
    "for col in numerical_cols:\n",
    "    median_val = train_data[col].median()\n",
    "    train_data[col] = train_data[col].fillna(median_val)\n",
    "\n",
    "categorical_cols_to_impute = ['Stage_fear', 'Drained_after_socializing']\n",
    "for col in categorical_cols_to_impute:\n",
    "    mode_val = train_data[col].mode()[0]\n",
    "    train_data[col] = train_data[col].fillna(mode_val)"
   ]
  },
  {
   "cell_type": "code",
   "execution_count": 7,
   "id": "edf0f076",
   "metadata": {
    "execution": {
     "iopub.execute_input": "2025-07-25T04:52:29.078828Z",
     "iopub.status.busy": "2025-07-25T04:52:29.078470Z",
     "iopub.status.idle": "2025-07-25T04:52:29.088413Z",
     "shell.execute_reply": "2025-07-25T04:52:29.087356Z"
    },
    "papermill": {
     "duration": 0.019461,
     "end_time": "2025-07-25T04:52:29.089874",
     "exception": false,
     "start_time": "2025-07-25T04:52:29.070413",
     "status": "completed"
    },
    "tags": []
   },
   "outputs": [
    {
     "name": "stdout",
     "output_type": "stream",
     "text": [
      "id                           0\n",
      "Time_spent_Alone             0\n",
      "Stage_fear                   0\n",
      "Social_event_attendance      0\n",
      "Going_outside                0\n",
      "Drained_after_socializing    0\n",
      "Friends_circle_size          0\n",
      "Post_frequency               0\n",
      "Personality                  0\n",
      "dtype: int64\n"
     ]
    }
   ],
   "source": [
    "print(train_data.isnull().sum())"
   ]
  },
  {
   "cell_type": "code",
   "execution_count": 8,
   "id": "a5ffd5d7",
   "metadata": {
    "execution": {
     "iopub.execute_input": "2025-07-25T04:52:29.105510Z",
     "iopub.status.busy": "2025-07-25T04:52:29.105197Z",
     "iopub.status.idle": "2025-07-25T04:52:29.113977Z",
     "shell.execute_reply": "2025-07-25T04:52:29.112818Z"
    },
    "papermill": {
     "duration": 0.018913,
     "end_time": "2025-07-25T04:52:29.116049",
     "exception": false,
     "start_time": "2025-07-25T04:52:29.097136",
     "status": "completed"
    },
    "tags": []
   },
   "outputs": [
    {
     "name": "stdout",
     "output_type": "stream",
     "text": [
      "Unique values for Stage_fear: ['No' 'Yes']\n",
      "Unique values for Drained_after_socializing: ['No' 'Yes']\n"
     ]
    }
   ],
   "source": [
    "print(f\"Unique values for Stage_fear: {train_data['Stage_fear'].unique()}\")\n",
    "print(f\"Unique values for Drained_after_socializing: {train_data['Drained_after_socializing'].unique()}\")"
   ]
  },
  {
   "cell_type": "code",
   "execution_count": 9,
   "id": "69391260",
   "metadata": {
    "execution": {
     "iopub.execute_input": "2025-07-25T04:52:29.134429Z",
     "iopub.status.busy": "2025-07-25T04:52:29.134139Z",
     "iopub.status.idle": "2025-07-25T04:52:29.153240Z",
     "shell.execute_reply": "2025-07-25T04:52:29.152177Z"
    },
    "papermill": {
     "duration": 0.031304,
     "end_time": "2025-07-25T04:52:29.155254",
     "exception": false,
     "start_time": "2025-07-25T04:52:29.123950",
     "status": "completed"
    },
    "tags": []
   },
   "outputs": [],
   "source": [
    "le = LabelEncoder()\n",
    "train_data['Stage_fear'] = le.fit_transform(train_data['Stage_fear'])\n",
    "train_data['Drained_after_socializing'] = le.fit_transform(train_data['Drained_after_socializing'])"
   ]
  },
  {
   "cell_type": "code",
   "execution_count": 10,
   "id": "92adfd5e",
   "metadata": {
    "execution": {
     "iopub.execute_input": "2025-07-25T04:52:29.175436Z",
     "iopub.status.busy": "2025-07-25T04:52:29.174812Z",
     "iopub.status.idle": "2025-07-25T04:52:29.181923Z",
     "shell.execute_reply": "2025-07-25T04:52:29.181199Z"
    },
    "papermill": {
     "duration": 0.017763,
     "end_time": "2025-07-25T04:52:29.183979",
     "exception": false,
     "start_time": "2025-07-25T04:52:29.166216",
     "status": "completed"
    },
    "tags": []
   },
   "outputs": [
    {
     "data": {
      "text/plain": [
       "0        Extrovert\n",
       "1        Extrovert\n",
       "2        Introvert\n",
       "3        Extrovert\n",
       "4        Extrovert\n",
       "           ...    \n",
       "18519    Extrovert\n",
       "18520    Extrovert\n",
       "18521    Introvert\n",
       "18522    Introvert\n",
       "18523    Extrovert\n",
       "Name: Personality, Length: 18524, dtype: object"
      ]
     },
     "execution_count": 10,
     "metadata": {},
     "output_type": "execute_result"
    }
   ],
   "source": [
    "train_data['Personality']"
   ]
  },
  {
   "cell_type": "code",
   "execution_count": 11,
   "id": "ab2645b6",
   "metadata": {
    "execution": {
     "iopub.execute_input": "2025-07-25T04:52:29.203890Z",
     "iopub.status.busy": "2025-07-25T04:52:29.203323Z",
     "iopub.status.idle": "2025-07-25T04:52:29.211240Z",
     "shell.execute_reply": "2025-07-25T04:52:29.210397Z"
    },
    "papermill": {
     "duration": 0.017989,
     "end_time": "2025-07-25T04:52:29.212632",
     "exception": false,
     "start_time": "2025-07-25T04:52:29.194643",
     "status": "completed"
    },
    "tags": []
   },
   "outputs": [],
   "source": [
    "personality_le = LabelEncoder()\n",
    "train_data['Personality'] = personality_le.fit_transform(train_data['Personality'])"
   ]
  },
  {
   "cell_type": "code",
   "execution_count": 12,
   "id": "e7df4de5",
   "metadata": {
    "execution": {
     "iopub.execute_input": "2025-07-25T04:52:29.228630Z",
     "iopub.status.busy": "2025-07-25T04:52:29.228342Z",
     "iopub.status.idle": "2025-07-25T04:52:29.232892Z",
     "shell.execute_reply": "2025-07-25T04:52:29.232109Z"
    },
    "papermill": {
     "duration": 0.014366,
     "end_time": "2025-07-25T04:52:29.234322",
     "exception": false,
     "start_time": "2025-07-25T04:52:29.219956",
     "status": "completed"
    },
    "tags": []
   },
   "outputs": [
    {
     "name": "stdout",
     "output_type": "stream",
     "text": [
      "\n",
      "'Personality' (target) encoded. Mapping: ['Extrovert', 'Introvert'] -> [0, 1]\n"
     ]
    }
   ],
   "source": [
    "\n",
    "print(f\"\\n'Personality' (target) encoded. Mapping: {list(personality_le.classes_)} -> {list(range(len(personality_le.classes_)))}\")"
   ]
  },
  {
   "cell_type": "code",
   "execution_count": 13,
   "id": "5dbef236",
   "metadata": {
    "execution": {
     "iopub.execute_input": "2025-07-25T04:52:29.251221Z",
     "iopub.status.busy": "2025-07-25T04:52:29.250440Z",
     "iopub.status.idle": "2025-07-25T04:52:29.257141Z",
     "shell.execute_reply": "2025-07-25T04:52:29.256340Z"
    },
    "papermill": {
     "duration": 0.016464,
     "end_time": "2025-07-25T04:52:29.258601",
     "exception": false,
     "start_time": "2025-07-25T04:52:29.242137",
     "status": "completed"
    },
    "tags": []
   },
   "outputs": [],
   "source": [
    "train_data = train_data.drop('id', axis=1)"
   ]
  },
  {
   "cell_type": "markdown",
   "id": "5f7cb23b",
   "metadata": {
    "papermill": {
     "duration": 0.007047,
     "end_time": "2025-07-25T04:52:29.273198",
     "exception": false,
     "start_time": "2025-07-25T04:52:29.266151",
     "status": "completed"
    },
    "tags": []
   },
   "source": [
    "##  CatBoost Model Implementation"
   ]
  },
  {
   "cell_type": "code",
   "execution_count": 14,
   "id": "d8098843",
   "metadata": {
    "execution": {
     "iopub.execute_input": "2025-07-25T04:52:29.289341Z",
     "iopub.status.busy": "2025-07-25T04:52:29.289049Z",
     "iopub.status.idle": "2025-07-25T04:52:30.499488Z",
     "shell.execute_reply": "2025-07-25T04:52:30.498705Z"
    },
    "papermill": {
     "duration": 1.220136,
     "end_time": "2025-07-25T04:52:30.501005",
     "exception": false,
     "start_time": "2025-07-25T04:52:29.280869",
     "status": "completed"
    },
    "tags": []
   },
   "outputs": [],
   "source": [
    "from sklearn.model_selection import train_test_split\n",
    "from catboost import CatBoostClassifier, Pool\n",
    "from sklearn.metrics import accuracy_score, precision_score, recall_score, f1_score, roc_auc_score, confusion_matrix, classification_report\n",
    "import matplotlib.pyplot as plt\n",
    "import seaborn as sns"
   ]
  },
  {
   "cell_type": "code",
   "execution_count": 15,
   "id": "ec8de1d5",
   "metadata": {
    "execution": {
     "iopub.execute_input": "2025-07-25T04:52:30.517114Z",
     "iopub.status.busy": "2025-07-25T04:52:30.516663Z",
     "iopub.status.idle": "2025-07-25T04:52:30.522605Z",
     "shell.execute_reply": "2025-07-25T04:52:30.521835Z"
    },
    "papermill": {
     "duration": 0.01535,
     "end_time": "2025-07-25T04:52:30.523937",
     "exception": false,
     "start_time": "2025-07-25T04:52:30.508587",
     "status": "completed"
    },
    "tags": []
   },
   "outputs": [],
   "source": [
    "X = train_data.drop('Personality', axis=1)\n",
    "y = train_data['Personality'] "
   ]
  },
  {
   "cell_type": "code",
   "execution_count": 16,
   "id": "0e4f143f",
   "metadata": {
    "execution": {
     "iopub.execute_input": "2025-07-25T04:52:30.601560Z",
     "iopub.status.busy": "2025-07-25T04:52:30.601273Z",
     "iopub.status.idle": "2025-07-25T04:52:30.617841Z",
     "shell.execute_reply": "2025-07-25T04:52:30.616863Z"
    },
    "papermill": {
     "duration": 0.087823,
     "end_time": "2025-07-25T04:52:30.619233",
     "exception": false,
     "start_time": "2025-07-25T04:52:30.531410",
     "status": "completed"
    },
    "tags": []
   },
   "outputs": [
    {
     "name": "stdout",
     "output_type": "stream",
     "text": [
      "\n",
      "Training set size: 14819 samples\n",
      "Testing set size: 3705 samples\n"
     ]
    }
   ],
   "source": [
    "X_train, X_test, y_train, y_test = train_test_split(X, y, test_size=0.2, random_state=42, stratify=y)\n",
    "# stratify=y ensures that the proportion of Introvert/Extrovert is the same in train and test sets.\n",
    "print(f\"\\nTraining set size: {X_train.shape[0]} samples\")\n",
    "print(f\"Testing set size: {X_test.shape[0]} samples\")"
   ]
  },
  {
   "cell_type": "code",
   "execution_count": 17,
   "id": "e3595a2b",
   "metadata": {
    "execution": {
     "iopub.execute_input": "2025-07-25T04:52:30.635518Z",
     "iopub.status.busy": "2025-07-25T04:52:30.635227Z",
     "iopub.status.idle": "2025-07-25T04:52:30.640812Z",
     "shell.execute_reply": "2025-07-25T04:52:30.640019Z"
    },
    "papermill": {
     "duration": 0.015241,
     "end_time": "2025-07-25T04:52:30.642100",
     "exception": false,
     "start_time": "2025-07-25T04:52:30.626859",
     "status": "completed"
    },
    "tags": []
   },
   "outputs": [],
   "source": [
    "model = CatBoostClassifier(\n",
    "    iterations=1000,           # Number of boosting iterations (trees)\n",
    "    learning_rate=0.05,        # Step size shrinkage to prevent overfitting\n",
    "    depth=6,                   # Depth of the tree (max depth is 16)\n",
    "    loss_function='Logloss',   # Loss function for binary classification\n",
    "    eval_metric='Accuracy',    # Metric to monitor during training\n",
    "    random_seed=42,            # For reproducibility\n",
    "    verbose=0,                 # Suppress output during training\n",
    "    early_stopping_rounds=50   # Stop if validation metric doesn't improve for 50 iterations\n",
    ")"
   ]
  },
  {
   "cell_type": "markdown",
   "id": "532b7715",
   "metadata": {
    "papermill": {
     "duration": 0.007347,
     "end_time": "2025-07-25T04:52:30.657150",
     "exception": false,
     "start_time": "2025-07-25T04:52:30.649803",
     "status": "completed"
    },
    "tags": []
   },
   "source": [
    "## Fit the model"
   ]
  },
  {
   "cell_type": "code",
   "execution_count": 18,
   "id": "83145f7d",
   "metadata": {
    "execution": {
     "iopub.execute_input": "2025-07-25T04:52:30.673795Z",
     "iopub.status.busy": "2025-07-25T04:52:30.673012Z",
     "iopub.status.idle": "2025-07-25T04:52:31.075112Z",
     "shell.execute_reply": "2025-07-25T04:52:31.074151Z"
    },
    "papermill": {
     "duration": 0.412079,
     "end_time": "2025-07-25T04:52:31.076640",
     "exception": false,
     "start_time": "2025-07-25T04:52:30.664561",
     "status": "completed"
    },
    "tags": []
   },
   "outputs": [
    {
     "data": {
      "text/plain": [
       "<catboost.core.CatBoostClassifier at 0x7eeee7cd7a90>"
      ]
     },
     "execution_count": 18,
     "metadata": {},
     "output_type": "execute_result"
    }
   ],
   "source": [
    "model.fit(X_train, y_train,\n",
    "          eval_set=(X_test, y_test),\n",
    "          verbose=False) "
   ]
  },
  {
   "cell_type": "code",
   "execution_count": 19,
   "id": "87223864",
   "metadata": {
    "execution": {
     "iopub.execute_input": "2025-07-25T04:52:31.093795Z",
     "iopub.status.busy": "2025-07-25T04:52:31.093001Z",
     "iopub.status.idle": "2025-07-25T04:52:31.097861Z",
     "shell.execute_reply": "2025-07-25T04:52:31.096998Z"
    },
    "papermill": {
     "duration": 0.01473,
     "end_time": "2025-07-25T04:52:31.099213",
     "exception": false,
     "start_time": "2025-07-25T04:52:31.084483",
     "status": "completed"
    },
    "tags": []
   },
   "outputs": [
    {
     "name": "stdout",
     "output_type": "stream",
     "text": [
      "Best iteration: 7 out of 1000 iterations.\n"
     ]
    }
   ],
   "source": [
    "print(f\"Best iteration: {model.get_best_iteration()} out of {model.get_param('iterations')} iterations.\")"
   ]
  },
  {
   "cell_type": "markdown",
   "id": "2b31abf6",
   "metadata": {
    "papermill": {
     "duration": 0.007375,
     "end_time": "2025-07-25T04:52:31.114248",
     "exception": false,
     "start_time": "2025-07-25T04:52:31.106873",
     "status": "completed"
    },
    "tags": []
   },
   "source": [
    "## Making predictions"
   ]
  },
  {
   "cell_type": "code",
   "execution_count": 20,
   "id": "5738d75b",
   "metadata": {
    "execution": {
     "iopub.execute_input": "2025-07-25T04:52:31.130613Z",
     "iopub.status.busy": "2025-07-25T04:52:31.130323Z",
     "iopub.status.idle": "2025-07-25T04:52:31.139490Z",
     "shell.execute_reply": "2025-07-25T04:52:31.138762Z"
    },
    "papermill": {
     "duration": 0.019078,
     "end_time": "2025-07-25T04:52:31.140945",
     "exception": false,
     "start_time": "2025-07-25T04:52:31.121867",
     "status": "completed"
    },
    "tags": []
   },
   "outputs": [],
   "source": [
    "y_pred = model.predict(X_test)\n",
    "y_pred_proba = model.predict_proba(X_test)[:, 1]"
   ]
  },
  {
   "cell_type": "markdown",
   "id": "f833e6e4",
   "metadata": {
    "papermill": {
     "duration": 0.007534,
     "end_time": "2025-07-25T04:52:31.156404",
     "exception": false,
     "start_time": "2025-07-25T04:52:31.148870",
     "status": "completed"
    },
    "tags": []
   },
   "source": [
    "## Model Evaluation"
   ]
  },
  {
   "cell_type": "code",
   "execution_count": 21,
   "id": "0843372d",
   "metadata": {
    "execution": {
     "iopub.execute_input": "2025-07-25T04:52:31.173068Z",
     "iopub.status.busy": "2025-07-25T04:52:31.172307Z",
     "iopub.status.idle": "2025-07-25T04:52:31.176899Z",
     "shell.execute_reply": "2025-07-25T04:52:31.176105Z"
    },
    "papermill": {
     "duration": 0.01424,
     "end_time": "2025-07-25T04:52:31.178178",
     "exception": false,
     "start_time": "2025-07-25T04:52:31.163938",
     "status": "completed"
    },
    "tags": []
   },
   "outputs": [],
   "source": [
    "target_names = personality_le.inverse_transform([0, 1])"
   ]
  },
  {
   "cell_type": "code",
   "execution_count": 22,
   "id": "3f2e354a",
   "metadata": {
    "execution": {
     "iopub.execute_input": "2025-07-25T04:52:31.194899Z",
     "iopub.status.busy": "2025-07-25T04:52:31.194362Z",
     "iopub.status.idle": "2025-07-25T04:52:31.219109Z",
     "shell.execute_reply": "2025-07-25T04:52:31.218159Z"
    },
    "papermill": {
     "duration": 0.034648,
     "end_time": "2025-07-25T04:52:31.220525",
     "exception": false,
     "start_time": "2025-07-25T04:52:31.185877",
     "status": "completed"
    },
    "tags": []
   },
   "outputs": [
    {
     "name": "stdout",
     "output_type": "stream",
     "text": [
      "Accuracy: 0.9719\n",
      "Precision: 0.9434\n",
      "Recall: 0.9492\n",
      "F1-Score: 0.9463\n",
      "ROC-AUC Score: 0.9727\n"
     ]
    }
   ],
   "source": [
    "print(f\"Accuracy: {accuracy_score(y_test, y_pred):.4f}\")\n",
    "print(f\"Precision: {precision_score(y_test, y_pred):.4f}\")\n",
    "print(f\"Recall: {recall_score(y_test, y_pred):.4f}\")\n",
    "print(f\"F1-Score: {f1_score(y_test, y_pred):.4f}\")\n",
    "print(f\"ROC-AUC Score: {roc_auc_score(y_test, y_pred_proba):.4f}\")"
   ]
  },
  {
   "cell_type": "code",
   "execution_count": 23,
   "id": "07238bb0",
   "metadata": {
    "execution": {
     "iopub.execute_input": "2025-07-25T04:52:31.237245Z",
     "iopub.status.busy": "2025-07-25T04:52:31.236950Z",
     "iopub.status.idle": "2025-07-25T04:52:31.253188Z",
     "shell.execute_reply": "2025-07-25T04:52:31.252321Z"
    },
    "papermill": {
     "duration": 0.026267,
     "end_time": "2025-07-25T04:52:31.254607",
     "exception": false,
     "start_time": "2025-07-25T04:52:31.228340",
     "status": "completed"
    },
    "tags": []
   },
   "outputs": [
    {
     "name": "stdout",
     "output_type": "stream",
     "text": [
      "\n",
      "Classification Report:\n",
      "              precision    recall  f1-score   support\n",
      "\n",
      "   Extrovert       0.98      0.98      0.98      2740\n",
      "   Introvert       0.94      0.95      0.95       965\n",
      "\n",
      "    accuracy                           0.97      3705\n",
      "   macro avg       0.96      0.96      0.96      3705\n",
      "weighted avg       0.97      0.97      0.97      3705\n",
      "\n"
     ]
    }
   ],
   "source": [
    "print(\"\\nClassification Report:\")\n",
    "print(classification_report(y_test, y_pred, target_names=target_names))"
   ]
  },
  {
   "cell_type": "code",
   "execution_count": 24,
   "id": "0dd568b8",
   "metadata": {
    "execution": {
     "iopub.execute_input": "2025-07-25T04:52:31.271204Z",
     "iopub.status.busy": "2025-07-25T04:52:31.270911Z",
     "iopub.status.idle": "2025-07-25T04:52:31.448586Z",
     "shell.execute_reply": "2025-07-25T04:52:31.447484Z"
    },
    "papermill": {
     "duration": 0.1879,
     "end_time": "2025-07-25T04:52:31.450274",
     "exception": false,
     "start_time": "2025-07-25T04:52:31.262374",
     "status": "completed"
    },
    "tags": []
   },
   "outputs": [
    {
     "data": {
      "image/png": "[encoded data removed]",
      "text/plain": [
       "<Figure size 600x500 with 1 Axes>"
      ]
     },
     "metadata": {},
     "output_type": "display_data"
    }
   ],
   "source": [
    "cm = confusion_matrix(y_test, y_pred)\n",
    "plt.figure(figsize=(6, 5))\n",
    "sns.heatmap(cm, annot=True, fmt='d', cmap='Blues', cbar=False,\n",
    "            xticklabels=target_names, yticklabels=target_names)\n",
    "plt.xlabel('Predicted Label')\n",
    "plt.ylabel('True Label')\n",
    "plt.title('Confusion Matrix')\n",
    "plt.show()"
   ]
  },
  {
   "cell_type": "markdown",
   "id": "71613467",
   "metadata": {
    "papermill": {
     "duration": 0.007803,
     "end_time": "2025-07-25T04:52:31.466457",
     "exception": false,
     "start_time": "2025-07-25T04:52:31.458654",
     "status": "completed"
    },
    "tags": []
   },
   "source": [
    "## Feature Importance"
   ]
  },
  {
   "cell_type": "code",
   "execution_count": 25,
   "id": "f1d4e598",
   "metadata": {
    "execution": {
     "iopub.execute_input": "2025-07-25T04:52:31.483512Z",
     "iopub.status.busy": "2025-07-25T04:52:31.483246Z",
     "iopub.status.idle": "2025-07-25T04:52:31.694114Z",
     "shell.execute_reply": "2025-07-25T04:52:31.693138Z"
    },
    "papermill": {
     "duration": 0.221119,
     "end_time": "2025-07-25T04:52:31.695459",
     "exception": false,
     "start_time": "2025-07-25T04:52:31.474340",
     "status": "completed"
    },
    "tags": []
   },
   "outputs": [
    {
     "name": "stdout",
     "output_type": "stream",
     "text": [
      "\n",
      "Feature Importances:\n",
      "                     Feature  Importance\n",
      "4  Drained_after_socializing   46.883358\n",
      "1                 Stage_fear   40.425402\n",
      "0           Time_spent_Alone    3.696181\n",
      "2    Social_event_attendance    3.496015\n",
      "3              Going_outside    2.397310\n",
      "6             Post_frequency    2.377728\n",
      "5        Friends_circle_size    0.724005\n"
     ]
    },
    {
     "data": {
      "image/png": "[encoded data removed]",
      "text/plain": [
       "<Figure size 1000x600 with 1 Axes>"
      ]
     },
     "metadata": {},
     "output_type": "display_data"
    }
   ],
   "source": [
    "feature_importances = model.get_feature_importance(Pool(X_train, y_train))\n",
    "feature_names = X_train.columns\n",
    "importance_df = pd.DataFrame({'Feature': feature_names, 'Importance': feature_importances}).sort_values(by='Importance', ascending=False)\n",
    "\n",
    "print(\"\\nFeature Importances:\")\n",
    "print(importance_df)\n",
    "\n",
    "plt.figure(figsize=(10, 6))\n",
    "sns.barplot(x='Importance', y='Feature', data=importance_df)\n",
    "plt.title('CatBoost Feature Importances')\n",
    "plt.xlabel('Importance')\n",
    "plt.ylabel('Feature')\n",
    "plt.tight_layout()\n",
    "plt.show()"
   ]
  },
  {
   "cell_type": "markdown",
   "id": "395ded90",
   "metadata": {
    "papermill": {
     "duration": 0.008549,
     "end_time": "2025-07-25T04:52:31.713201",
     "exception": false,
     "start_time": "2025-07-25T04:52:31.704652",
     "status": "completed"
    },
    "tags": []
   },
   "source": [
    "## Test data preprocessing"
   ]
  },
  {
   "cell_type": "code",
   "execution_count": 26,
   "id": "b3b7fdf5",
   "metadata": {
    "execution": {
     "iopub.execute_input": "2025-07-25T04:52:31.732212Z",
     "iopub.status.busy": "2025-07-25T04:52:31.731410Z",
     "iopub.status.idle": "2025-07-25T04:52:31.747281Z",
     "shell.execute_reply": "2025-07-25T04:52:31.746383Z"
    },
    "papermill": {
     "duration": 0.027009,
     "end_time": "2025-07-25T04:52:31.748942",
     "exception": false,
     "start_time": "2025-07-25T04:52:31.721933",
     "status": "completed"
    },
    "tags": []
   },
   "outputs": [
    {
     "name": "stderr",
     "output_type": "stream",
     "text": [
      "/usr/local/lib/python3.11/dist-packages/pandas/io/formats/format.py:1458: RuntimeWarning: invalid value encountered in greater\n",
      "  has_large_values = (abs_vals > 1e6).any()\n",
      "/usr/local/lib/python3.11/dist-packages/pandas/io/formats/format.py:1459: RuntimeWarning: invalid value encountered in less\n",
      "  has_small_values = ((abs_vals < 10 ** (-self.digits)) & (abs_vals > 0)).any()\n",
      "/usr/local/lib/python3.11/dist-packages/pandas/io/formats/format.py:1459: RuntimeWarning: invalid value encountered in greater\n",
      "  has_small_values = ((abs_vals < 10 ** (-self.digits)) & (abs_vals > 0)).any()\n"
     ]
    },
    {
     "data": {
      "text/html": [
       "<div>\n",
       "<style scoped>\n",
       "    .dataframe tbody tr th:only-of-type {\n",
       "        vertical-align: middle;\n",
       "    }\n",
       "\n",
       "    .dataframe tbody tr th {\n",
       "        vertical-align: top;\n",
       "    }\n",
       "\n",
       "    .dataframe thead th {\n",
       "        text-align: right;\n",
       "    }\n",
       "</style>\n",
       "<table border=\"1\" class=\"dataframe\">\n",
       "  <thead>\n",
       "    <tr style=\"text-align: right;\">\n",
       "      <th></th>\n",
       "      <th>id</th>\n",
       "      <th>Time_spent_Alone</th>\n",
       "      <th>Stage_fear</th>\n",
       "      <th>Social_event_attendance</th>\n",
       "      <th>Going_outside</th>\n",
       "      <th>Drained_after_socializing</th>\n",
       "      <th>Friends_circle_size</th>\n",
       "      <th>Post_frequency</th>\n",
       "    </tr>\n",
       "  </thead>\n",
       "  <tbody>\n",
       "    <tr>\n",
       "      <th>0</th>\n",
       "      <td>18524</td>\n",
       "      <td>3.0</td>\n",
       "      <td>No</td>\n",
       "      <td>7.0</td>\n",
       "      <td>4.0</td>\n",
       "      <td>No</td>\n",
       "      <td>6.0</td>\n",
       "      <td>NaN</td>\n",
       "    </tr>\n",
       "    <tr>\n",
       "      <th>1</th>\n",
       "      <td>18525</td>\n",
       "      <td>NaN</td>\n",
       "      <td>Yes</td>\n",
       "      <td>0.0</td>\n",
       "      <td>0.0</td>\n",
       "      <td>Yes</td>\n",
       "      <td>5.0</td>\n",
       "      <td>1.0</td>\n",
       "    </tr>\n",
       "    <tr>\n",
       "      <th>2</th>\n",
       "      <td>18526</td>\n",
       "      <td>3.0</td>\n",
       "      <td>No</td>\n",
       "      <td>5.0</td>\n",
       "      <td>6.0</td>\n",
       "      <td>No</td>\n",
       "      <td>15.0</td>\n",
       "      <td>9.0</td>\n",
       "    </tr>\n",
       "    <tr>\n",
       "      <th>3</th>\n",
       "      <td>18527</td>\n",
       "      <td>3.0</td>\n",
       "      <td>No</td>\n",
       "      <td>4.0</td>\n",
       "      <td>4.0</td>\n",
       "      <td>No</td>\n",
       "      <td>5.0</td>\n",
       "      <td>6.0</td>\n",
       "    </tr>\n",
       "    <tr>\n",
       "      <th>4</th>\n",
       "      <td>18528</td>\n",
       "      <td>9.0</td>\n",
       "      <td>Yes</td>\n",
       "      <td>1.0</td>\n",
       "      <td>2.0</td>\n",
       "      <td>Yes</td>\n",
       "      <td>1.0</td>\n",
       "      <td>1.0</td>\n",
       "    </tr>\n",
       "    <tr>\n",
       "      <th>...</th>\n",
       "      <td>...</td>\n",
       "      <td>...</td>\n",
       "      <td>...</td>\n",
       "      <td>...</td>\n",
       "      <td>...</td>\n",
       "      <td>...</td>\n",
       "      <td>...</td>\n",
       "      <td>...</td>\n",
       "    </tr>\n",
       "    <tr>\n",
       "      <th>6170</th>\n",
       "      <td>24694</td>\n",
       "      <td>3.0</td>\n",
       "      <td>No</td>\n",
       "      <td>5.0</td>\n",
       "      <td>5.0</td>\n",
       "      <td>No</td>\n",
       "      <td>9.0</td>\n",
       "      <td>6.0</td>\n",
       "    </tr>\n",
       "    <tr>\n",
       "      <th>6171</th>\n",
       "      <td>24695</td>\n",
       "      <td>8.0</td>\n",
       "      <td>Yes</td>\n",
       "      <td>2.0</td>\n",
       "      <td>1.0</td>\n",
       "      <td>Yes</td>\n",
       "      <td>0.0</td>\n",
       "      <td>0.0</td>\n",
       "    </tr>\n",
       "    <tr>\n",
       "      <th>6172</th>\n",
       "      <td>24696</td>\n",
       "      <td>2.0</td>\n",
       "      <td>No</td>\n",
       "      <td>4.0</td>\n",
       "      <td>3.0</td>\n",
       "      <td>No</td>\n",
       "      <td>9.0</td>\n",
       "      <td>7.0</td>\n",
       "    </tr>\n",
       "    <tr>\n",
       "      <th>6173</th>\n",
       "      <td>24697</td>\n",
       "      <td>3.0</td>\n",
       "      <td>No</td>\n",
       "      <td>4.0</td>\n",
       "      <td>4.0</td>\n",
       "      <td>No</td>\n",
       "      <td>11.0</td>\n",
       "      <td>9.0</td>\n",
       "    </tr>\n",
       "    <tr>\n",
       "      <th>6174</th>\n",
       "      <td>24698</td>\n",
       "      <td>NaN</td>\n",
       "      <td>Yes</td>\n",
       "      <td>1.0</td>\n",
       "      <td>1.0</td>\n",
       "      <td>Yes</td>\n",
       "      <td>1.0</td>\n",
       "      <td>0.0</td>\n",
       "    </tr>\n",
       "  </tbody>\n",
       "</table>\n",
       "<p>6175 rows × 8 columns</p>\n",
       "</div>"
      ],
      "text/plain": [
       "         id  Time_spent_Alone Stage_fear  Social_event_attendance  \\\n",
       "0     18524               3.0         No                      7.0   \n",
       "1     18525               NaN        Yes                      0.0   \n",
       "2     18526               3.0         No                      5.0   \n",
       "3     18527               3.0         No                      4.0   \n",
       "4     18528               9.0        Yes                      1.0   \n",
       "...     ...               ...        ...                      ...   \n",
       "6170  24694               3.0         No                      5.0   \n",
       "6171  24695               8.0        Yes                      2.0   \n",
       "6172  24696               2.0         No                      4.0   \n",
       "6173  24697               3.0         No                      4.0   \n",
       "6174  24698               NaN        Yes                      1.0   \n",
       "\n",
       "      Going_outside Drained_after_socializing  Friends_circle_size  \\\n",
       "0               4.0                        No                  6.0   \n",
       "1               0.0                       Yes                  5.0   \n",
       "2               6.0                        No                 15.0   \n",
       "3               4.0                        No                  5.0   \n",
       "4               2.0                       Yes                  1.0   \n",
       "...             ...                       ...                  ...   \n",
       "6170            5.0                        No                  9.0   \n",
       "6171            1.0                       Yes                  0.0   \n",
       "6172            3.0                        No                  9.0   \n",
       "6173            4.0                        No                 11.0   \n",
       "6174            1.0                       Yes                  1.0   \n",
       "\n",
       "      Post_frequency  \n",
       "0                NaN  \n",
       "1                1.0  \n",
       "2                9.0  \n",
       "3                6.0  \n",
       "4                1.0  \n",
       "...              ...  \n",
       "6170             6.0  \n",
       "6171             0.0  \n",
       "6172             7.0  \n",
       "6173             9.0  \n",
       "6174             0.0  \n",
       "\n",
       "[6175 rows x 8 columns]"
      ]
     },
     "execution_count": 26,
     "metadata": {},
     "output_type": "execute_result"
    }
   ],
   "source": [
    "test_data"
   ]
  },
  {
   "cell_type": "code",
   "execution_count": 27,
   "id": "47acc551",
   "metadata": {
    "execution": {
     "iopub.execute_input": "2025-07-25T04:52:31.768778Z",
     "iopub.status.busy": "2025-07-25T04:52:31.768440Z",
     "iopub.status.idle": "2025-07-25T04:52:31.780528Z",
     "shell.execute_reply": "2025-07-25T04:52:31.779679Z"
    },
    "papermill": {
     "duration": 0.023802,
     "end_time": "2025-07-25T04:52:31.782166",
     "exception": false,
     "start_time": "2025-07-25T04:52:31.758364",
     "status": "completed"
    },
    "tags": []
   },
   "outputs": [],
   "source": [
    "numerical_cols = ['Time_spent_Alone', 'Social_event_attendance', 'Going_outside', 'Friends_circle_size', 'Post_frequency']\n",
    "for col in numerical_cols:\n",
    "    median_val = test_data[col].median()\n",
    "    test_data[col] = test_data[col].fillna(median_val)\n",
    "\n",
    "categorical_cols_to_impute = ['Stage_fear', 'Drained_after_socializing']\n",
    "for col in categorical_cols_to_impute:\n",
    "    mode_val = test_data[col].mode()[0]\n",
    "    test_data[col] = test_data[col].fillna(mode_val)"
   ]
  },
  {
   "cell_type": "code",
   "execution_count": 28,
   "id": "ed5ea840",
   "metadata": {
    "execution": {
     "iopub.execute_input": "2025-07-25T04:52:31.802661Z",
     "iopub.status.busy": "2025-07-25T04:52:31.802381Z",
     "iopub.status.idle": "2025-07-25T04:52:31.809780Z",
     "shell.execute_reply": "2025-07-25T04:52:31.808814Z"
    },
    "papermill": {
     "duration": 0.019219,
     "end_time": "2025-07-25T04:52:31.811204",
     "exception": false,
     "start_time": "2025-07-25T04:52:31.791985",
     "status": "completed"
    },
    "tags": []
   },
   "outputs": [
    {
     "name": "stdout",
     "output_type": "stream",
     "text": [
      "id                           0\n",
      "Time_spent_Alone             0\n",
      "Stage_fear                   0\n",
      "Social_event_attendance      0\n",
      "Going_outside                0\n",
      "Drained_after_socializing    0\n",
      "Friends_circle_size          0\n",
      "Post_frequency               0\n",
      "dtype: int64\n"
     ]
    }
   ],
   "source": [
    "print(test_data.isnull().sum())"
   ]
  },
  {
   "cell_type": "code",
   "execution_count": 29,
   "id": "f45c802d",
   "metadata": {
    "execution": {
     "iopub.execute_input": "2025-07-25T04:52:31.831868Z",
     "iopub.status.busy": "2025-07-25T04:52:31.831070Z",
     "iopub.status.idle": "2025-07-25T04:52:31.837539Z",
     "shell.execute_reply": "2025-07-25T04:52:31.836674Z"
    },
    "papermill": {
     "duration": 0.018388,
     "end_time": "2025-07-25T04:52:31.838995",
     "exception": false,
     "start_time": "2025-07-25T04:52:31.820607",
     "status": "completed"
    },
    "tags": []
   },
   "outputs": [
    {
     "name": "stdout",
     "output_type": "stream",
     "text": [
      "Unique values for Stage_fear: ['No' 'Yes']\n",
      "Unique values for Drained_after_socializing: ['No' 'Yes']\n"
     ]
    }
   ],
   "source": [
    "print(f\"Unique values for Stage_fear: {test_data['Stage_fear'].unique()}\")\n",
    "print(f\"Unique values for Drained_after_socializing: {test_data['Drained_after_socializing'].unique()}\")"
   ]
  },
  {
   "cell_type": "code",
   "execution_count": 30,
   "id": "f5ebf913",
   "metadata": {
    "execution": {
     "iopub.execute_input": "2025-07-25T04:52:31.859572Z",
     "iopub.status.busy": "2025-07-25T04:52:31.858751Z",
     "iopub.status.idle": "2025-07-25T04:52:31.866600Z",
     "shell.execute_reply": "2025-07-25T04:52:31.865784Z"
    },
    "papermill": {
     "duration": 0.019626,
     "end_time": "2025-07-25T04:52:31.868025",
     "exception": false,
     "start_time": "2025-07-25T04:52:31.848399",
     "status": "completed"
    },
    "tags": []
   },
   "outputs": [],
   "source": [
    "le = LabelEncoder()\n",
    "test_data['Stage_fear'] = le.fit_transform(test_data['Stage_fear'])\n",
    "test_data['Drained_after_socializing'] = le.fit_transform(test_data['Drained_after_socializing'])"
   ]
  },
  {
   "cell_type": "code",
   "execution_count": 31,
   "id": "b7581301",
   "metadata": {
    "execution": {
     "iopub.execute_input": "2025-07-25T04:52:31.887836Z",
     "iopub.status.busy": "2025-07-25T04:52:31.887526Z",
     "iopub.status.idle": "2025-07-25T04:52:31.902786Z",
     "shell.execute_reply": "2025-07-25T04:52:31.901980Z"
    },
    "papermill": {
     "duration": 0.026977,
     "end_time": "2025-07-25T04:52:31.904244",
     "exception": false,
     "start_time": "2025-07-25T04:52:31.877267",
     "status": "completed"
    },
    "tags": []
   },
   "outputs": [
    {
     "data": {
      "text/html": [
       "<div>\n",
       "<style scoped>\n",
       "    .dataframe tbody tr th:only-of-type {\n",
       "        vertical-align: middle;\n",
       "    }\n",
       "\n",
       "    .dataframe tbody tr th {\n",
       "        vertical-align: top;\n",
       "    }\n",
       "\n",
       "    .dataframe thead th {\n",
       "        text-align: right;\n",
       "    }\n",
       "</style>\n",
       "<table border=\"1\" class=\"dataframe\">\n",
       "  <thead>\n",
       "    <tr style=\"text-align: right;\">\n",
       "      <th></th>\n",
       "      <th>id</th>\n",
       "      <th>Time_spent_Alone</th>\n",
       "      <th>Stage_fear</th>\n",
       "      <th>Social_event_attendance</th>\n",
       "      <th>Going_outside</th>\n",
       "      <th>Drained_after_socializing</th>\n",
       "      <th>Friends_circle_size</th>\n",
       "      <th>Post_frequency</th>\n",
       "    </tr>\n",
       "  </thead>\n",
       "  <tbody>\n",
       "    <tr>\n",
       "      <th>0</th>\n",
       "      <td>18524</td>\n",
       "      <td>3.0</td>\n",
       "      <td>0</td>\n",
       "      <td>7.0</td>\n",
       "      <td>4.0</td>\n",
       "      <td>0</td>\n",
       "      <td>6.0</td>\n",
       "      <td>5.0</td>\n",
       "    </tr>\n",
       "    <tr>\n",
       "      <th>1</th>\n",
       "      <td>18525</td>\n",
       "      <td>2.0</td>\n",
       "      <td>1</td>\n",
       "      <td>0.0</td>\n",
       "      <td>0.0</td>\n",
       "      <td>1</td>\n",
       "      <td>5.0</td>\n",
       "      <td>1.0</td>\n",
       "    </tr>\n",
       "    <tr>\n",
       "      <th>2</th>\n",
       "      <td>18526</td>\n",
       "      <td>3.0</td>\n",
       "      <td>0</td>\n",
       "      <td>5.0</td>\n",
       "      <td>6.0</td>\n",
       "      <td>0</td>\n",
       "      <td>15.0</td>\n",
       "      <td>9.0</td>\n",
       "    </tr>\n",
       "    <tr>\n",
       "      <th>3</th>\n",
       "      <td>18527</td>\n",
       "      <td>3.0</td>\n",
       "      <td>0</td>\n",
       "      <td>4.0</td>\n",
       "      <td>4.0</td>\n",
       "      <td>0</td>\n",
       "      <td>5.0</td>\n",
       "      <td>6.0</td>\n",
       "    </tr>\n",
       "    <tr>\n",
       "      <th>4</th>\n",
       "      <td>18528</td>\n",
       "      <td>9.0</td>\n",
       "      <td>1</td>\n",
       "      <td>1.0</td>\n",
       "      <td>2.0</td>\n",
       "      <td>1</td>\n",
       "      <td>1.0</td>\n",
       "      <td>1.0</td>\n",
       "    </tr>\n",
       "    <tr>\n",
       "      <th>...</th>\n",
       "      <td>...</td>\n",
       "      <td>...</td>\n",
       "      <td>...</td>\n",
       "      <td>...</td>\n",
       "      <td>...</td>\n",
       "      <td>...</td>\n",
       "      <td>...</td>\n",
       "      <td>...</td>\n",
       "    </tr>\n",
       "    <tr>\n",
       "      <th>6170</th>\n",
       "      <td>24694</td>\n",
       "      <td>3.0</td>\n",
       "      <td>0</td>\n",
       "      <td>5.0</td>\n",
       "      <td>5.0</td>\n",
       "      <td>0</td>\n",
       "      <td>9.0</td>\n",
       "      <td>6.0</td>\n",
       "    </tr>\n",
       "    <tr>\n",
       "      <th>6171</th>\n",
       "      <td>24695</td>\n",
       "      <td>8.0</td>\n",
       "      <td>1</td>\n",
       "      <td>2.0</td>\n",
       "      <td>1.0</td>\n",
       "      <td>1</td>\n",
       "      <td>0.0</td>\n",
       "      <td>0.0</td>\n",
       "    </tr>\n",
       "    <tr>\n",
       "      <th>6172</th>\n",
       "      <td>24696</td>\n",
       "      <td>2.0</td>\n",
       "      <td>0</td>\n",
       "      <td>4.0</td>\n",
       "      <td>3.0</td>\n",
       "      <td>0</td>\n",
       "      <td>9.0</td>\n",
       "      <td>7.0</td>\n",
       "    </tr>\n",
       "    <tr>\n",
       "      <th>6173</th>\n",
       "      <td>24697</td>\n",
       "      <td>3.0</td>\n",
       "      <td>0</td>\n",
       "      <td>4.0</td>\n",
       "      <td>4.0</td>\n",
       "      <td>0</td>\n",
       "      <td>11.0</td>\n",
       "      <td>9.0</td>\n",
       "    </tr>\n",
       "    <tr>\n",
       "      <th>6174</th>\n",
       "      <td>24698</td>\n",
       "      <td>2.0</td>\n",
       "      <td>1</td>\n",
       "      <td>1.0</td>\n",
       "      <td>1.0</td>\n",
       "      <td>1</td>\n",
       "      <td>1.0</td>\n",
       "      <td>0.0</td>\n",
       "    </tr>\n",
       "  </tbody>\n",
       "</table>\n",
       "<p>6175 rows × 8 columns</p>\n",
       "</div>"
      ],
      "text/plain": [
       "         id  Time_spent_Alone  Stage_fear  Social_event_attendance  \\\n",
       "0     18524               3.0           0                      7.0   \n",
       "1     18525               2.0           1                      0.0   \n",
       "2     18526               3.0           0                      5.0   \n",
       "3     18527               3.0           0                      4.0   \n",
       "4     18528               9.0           1                      1.0   \n",
       "...     ...               ...         ...                      ...   \n",
       "6170  24694               3.0           0                      5.0   \n",
       "6171  24695               8.0           1                      2.0   \n",
       "6172  24696               2.0           0                      4.0   \n",
       "6173  24697               3.0           0                      4.0   \n",
       "6174  24698               2.0           1                      1.0   \n",
       "\n",
       "      Going_outside  Drained_after_socializing  Friends_circle_size  \\\n",
       "0               4.0                          0                  6.0   \n",
       "1               0.0                          1                  5.0   \n",
       "2               6.0                          0                 15.0   \n",
       "3               4.0                          0                  5.0   \n",
       "4               2.0                          1                  1.0   \n",
       "...             ...                        ...                  ...   \n",
       "6170            5.0                          0                  9.0   \n",
       "6171            1.0                          1                  0.0   \n",
       "6172            3.0                          0                  9.0   \n",
       "6173            4.0                          0                 11.0   \n",
       "6174            1.0                          1                  1.0   \n",
       "\n",
       "      Post_frequency  \n",
       "0                5.0  \n",
       "1                1.0  \n",
       "2                9.0  \n",
       "3                6.0  \n",
       "4                1.0  \n",
       "...              ...  \n",
       "6170             6.0  \n",
       "6171             0.0  \n",
       "6172             7.0  \n",
       "6173             9.0  \n",
       "6174             0.0  \n",
       "\n",
       "[6175 rows x 8 columns]"
      ]
     },
     "execution_count": 31,
     "metadata": {},
     "output_type": "execute_result"
    }
   ],
   "source": [
    "test_data"
   ]
  },
  {
   "cell_type": "code",
   "execution_count": 32,
   "id": "31f6b0e8",
   "metadata": {
    "execution": {
     "iopub.execute_input": "2025-07-25T04:52:31.924654Z",
     "iopub.status.busy": "2025-07-25T04:52:31.924367Z",
     "iopub.status.idle": "2025-07-25T04:52:31.929634Z",
     "shell.execute_reply": "2025-07-25T04:52:31.928944Z"
    },
    "papermill": {
     "duration": 0.017139,
     "end_time": "2025-07-25T04:52:31.931098",
     "exception": false,
     "start_time": "2025-07-25T04:52:31.913959",
     "status": "completed"
    },
    "tags": []
   },
   "outputs": [],
   "source": [
    "test_features = test_data.drop(columns='id', axis = 1)"
   ]
  },
  {
   "cell_type": "markdown",
   "id": "9911decc",
   "metadata": {
    "papermill": {
     "duration": 0.009143,
     "end_time": "2025-07-25T04:52:31.950250",
     "exception": false,
     "start_time": "2025-07-25T04:52:31.941107",
     "status": "completed"
    },
    "tags": []
   },
   "source": [
    "## Predictions"
   ]
  },
  {
   "cell_type": "code",
   "execution_count": 33,
   "id": "28ec1d90",
   "metadata": {
    "execution": {
     "iopub.execute_input": "2025-07-25T04:52:31.970141Z",
     "iopub.status.busy": "2025-07-25T04:52:31.969851Z",
     "iopub.status.idle": "2025-07-25T04:52:31.980200Z",
     "shell.execute_reply": "2025-07-25T04:52:31.979176Z"
    },
    "papermill": {
     "duration": 0.021969,
     "end_time": "2025-07-25T04:52:31.981645",
     "exception": false,
     "start_time": "2025-07-25T04:52:31.959676",
     "status": "completed"
    },
    "tags": []
   },
   "outputs": [],
   "source": [
    "pred = model.predict(test_features)\n",
    "pred_proba = model.predict_proba(test_features)[:, 1]"
   ]
  },
  {
   "cell_type": "code",
   "execution_count": 34,
   "id": "08bb0519",
   "metadata": {
    "execution": {
     "iopub.execute_input": "2025-07-25T04:52:32.002549Z",
     "iopub.status.busy": "2025-07-25T04:52:32.001734Z",
     "iopub.status.idle": "2025-07-25T04:52:32.007314Z",
     "shell.execute_reply": "2025-07-25T04:52:32.006457Z"
    },
    "papermill": {
     "duration": 0.017433,
     "end_time": "2025-07-25T04:52:32.008804",
     "exception": false,
     "start_time": "2025-07-25T04:52:31.991371",
     "status": "completed"
    },
    "tags": []
   },
   "outputs": [
    {
     "data": {
      "text/plain": [
       "array([0, 1, 0, ..., 0, 0, 1])"
      ]
     },
     "execution_count": 34,
     "metadata": {},
     "output_type": "execute_result"
    }
   ],
   "source": [
    "pred"
   ]
  },
  {
   "cell_type": "code",
   "execution_count": 35,
   "id": "268dd2c0",
   "metadata": {
    "execution": {
     "iopub.execute_input": "2025-07-25T04:52:32.031480Z",
     "iopub.status.busy": "2025-07-25T04:52:32.031189Z",
     "iopub.status.idle": "2025-07-25T04:52:32.036805Z",
     "shell.execute_reply": "2025-07-25T04:52:32.036084Z"
    },
    "papermill": {
     "duration": 0.019589,
     "end_time": "2025-07-25T04:52:32.038105",
     "exception": false,
     "start_time": "2025-07-25T04:52:32.018516",
     "status": "completed"
    },
    "tags": []
   },
   "outputs": [
    {
     "data": {
      "text/plain": [
       "array([0.2164007 , 0.71920077, 0.22958673, ..., 0.21803937, 0.21803937,\n",
       "       0.72494274])"
      ]
     },
     "execution_count": 35,
     "metadata": {},
     "output_type": "execute_result"
    }
   ],
   "source": [
    "pred_proba"
   ]
  },
  {
   "cell_type": "code",
   "execution_count": 36,
   "id": "422b9996",
   "metadata": {
    "execution": {
     "iopub.execute_input": "2025-07-25T04:52:32.059587Z",
     "iopub.status.busy": "2025-07-25T04:52:32.059314Z",
     "iopub.status.idle": "2025-07-25T04:52:32.063841Z",
     "shell.execute_reply": "2025-07-25T04:52:32.063010Z"
    },
    "papermill": {
     "duration": 0.016314,
     "end_time": "2025-07-25T04:52:32.065316",
     "exception": false,
     "start_time": "2025-07-25T04:52:32.049002",
     "status": "completed"
    },
    "tags": []
   },
   "outputs": [],
   "source": [
    "target_names = personality_le.inverse_transform(pred)"
   ]
  },
  {
   "cell_type": "code",
   "execution_count": 37,
   "id": "ffc86a9b",
   "metadata": {
    "execution": {
     "iopub.execute_input": "2025-07-25T04:52:32.085813Z",
     "iopub.status.busy": "2025-07-25T04:52:32.085231Z",
     "iopub.status.idle": "2025-07-25T04:52:32.102681Z",
     "shell.execute_reply": "2025-07-25T04:52:32.101764Z"
    },
    "papermill": {
     "duration": 0.029286,
     "end_time": "2025-07-25T04:52:32.104195",
     "exception": false,
     "start_time": "2025-07-25T04:52:32.074909",
     "status": "completed"
    },
    "tags": []
   },
   "outputs": [
    {
     "name": "stdout",
     "output_type": "stream",
     "text": [
      "Prediction file has been created\n"
     ]
    }
   ],
   "source": [
    "submission = pd.DataFrame({\n",
    "    'id': test_data['id'],\n",
    "    'Personality': target_names\n",
    "})\n",
    "submission.to_csv('/kaggle/working/submission.csv', index=False)\n",
    "\n",
    "print(\"Prediction file has been created\")"
   ]
  }
 ],
 "metadata": {
  "kaggle": {
   "accelerator": "none",
   "dataSources": [
    {
     "databundleVersionId": 12738969,
     "sourceId": 91718,
     "sourceType": "competition"
    }
   ],
   "dockerImageVersionId": 31089,
   "isGpuEnabled": false,
   "isInternetEnabled": true,
   "language": "python",
   "sourceType": "notebook"
  },
  "kernelspec": {
   "display_name": "Python 3",
   "language": "python",
   "name": "python3"
  },
  "language_info": {
   "codemirror_mode": {
    "name": "ipython",
    "version": 3
   },
   "file_extension": ".py",
   "mimetype": "text/x-python",
   "name": "python",
   "nbconvert_exporter": "python",
   "pygments_lexer": "ipython3",
   "version": "3.11.13"
  },
  "papermill": {
   "default_parameters": {},
   "duration": 11.984485,
   "end_time": "2025-07-25T04:52:32.833996",
   "environment_variables": {},
   "exception": null,
   "input_path": "__notebook__.ipynb",
   "output_path": "__notebook__.ipynb",
   "parameters": {},
   "start_time": "2025-07-25T04:52:20.849511",
   "version": "2.6.0"
  }
 },
 "nbformat": 4,
 "nbformat_minor": 5
}
