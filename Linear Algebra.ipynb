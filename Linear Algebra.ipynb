{
 "cells": [
  {
   "cell_type": "code",
   "execution_count": 1,
   "id": "afe7e76b-0f9f-4382-9ca6-ea88dead00bc",
   "metadata": {},
   "outputs": [],
   "source": [
    "import numpy as np"
   ]
  },
  {
   "cell_type": "markdown",
   "id": "b472f40e-4db1-4046-8812-cdb86133ab0c",
   "metadata": {},
   "source": [
    "## Vector vector multiplication"
   ]
  },
  {
   "cell_type": "code",
   "execution_count": 2,
   "id": "0dba2bef-45fd-41ee-a3f0-8939e7f5b432",
   "metadata": {},
   "outputs": [],
   "source": [
    "def vector_vector_multiplication(u, v):\n",
    "    assert u.shape[0] == v.shape[0]\n",
    "     \n",
    "    n = u.shape[0]\n",
    "     \n",
    "    result = 0.0\n",
    "     \n",
    "    for i in range(n):\n",
    "        result = result + u[i] * v[i]\n",
    "     \n",
    "    return result\n"
   ]
  },
  {
   "cell_type": "code",
   "execution_count": 3,
   "id": "50b9ccae-0b0b-483b-93c4-945f3aa21f00",
   "metadata": {},
   "outputs": [
    {
     "data": {
      "text/plain": [
       "14.0"
      ]
     },
     "execution_count": 3,
     "metadata": {},
     "output_type": "execute_result"
    }
   ],
   "source": [
    "u = np.array([2, 4, 5, 6])\n",
    "v = np.array([1, 0, 0, 2])\n",
    "vector_vector_multiplication(u, v)\n"
   ]
  },
  {
   "cell_type": "code",
   "execution_count": 4,
   "id": "7e9913d9-92e9-410d-89c4-d71e10fa2e4b",
   "metadata": {},
   "outputs": [
    {
     "data": {
      "text/plain": [
       "14"
      ]
     },
     "execution_count": 4,
     "metadata": {},
     "output_type": "execute_result"
    }
   ],
   "source": [
    "u.dot(v)\n"
   ]
  },
  {
   "cell_type": "markdown",
   "id": "ad6aa946-5a07-4431-a40a-06d4532c2292",
   "metadata": {},
   "source": [
    "## Matrix vector multiplication"
   ]
  },
  {
   "cell_type": "code",
   "execution_count": 5,
   "id": "05c0d0fa-c4dc-4591-a8e2-cdef4b94eedc",
   "metadata": {},
   "outputs": [],
   "source": [
    "def matrix_vector_multiplication(U, v):\n",
    "    assert U.shape[1] == v.shape[0]\n",
    "     \n",
    "    num_rows = U.shape[0]\n",
    "     \n",
    "    result = np.zeros(num_rows)\n",
    "     \n",
    "    for i in range(num_rows):\n",
    "        result[i] = vector_vector_multiplication(U[i], v)\n",
    "     \n",
    "    return result"
   ]
  },
  {
   "cell_type": "code",
   "execution_count": 6,
   "id": "789ac327-fbb1-421c-9c7d-94576f3df7e8",
   "metadata": {},
   "outputs": [
    {
     "data": {
      "text/plain": [
       "array([14.,  5.,  5.])"
      ]
     },
     "execution_count": 6,
     "metadata": {},
     "output_type": "execute_result"
    }
   ],
   "source": [
    "U = np.array([\n",
    "    [2, 4, 5, 6],\n",
    "    [1, 2, 1, 2],\n",
    "    [3, 1, 2, 1]\n",
    "])\n",
    " \n",
    "v = np.array([1, 0, 0, 2])\n",
    " \n",
    "matrix_vector_multiplication(U, v)"
   ]
  },
  {
   "cell_type": "code",
   "execution_count": 7,
   "id": "fd1440bd-0f8c-4e7f-ac60-1b588f8e2779",
   "metadata": {},
   "outputs": [
    {
     "data": {
      "text/plain": [
       "array([14,  5,  5])"
      ]
     },
     "execution_count": 7,
     "metadata": {},
     "output_type": "execute_result"
    }
   ],
   "source": [
    "U.dot(v)"
   ]
  },
  {
   "cell_type": "markdown",
   "id": "fc66a127-8780-4007-8413-9675d65ac93a",
   "metadata": {},
   "source": [
    "## Matrix matrix multiplication"
   ]
  },
  {
   "cell_type": "code",
   "execution_count": 8,
   "id": "d8f14b62-1d23-429a-9da2-db4b7fb23a78",
   "metadata": {},
   "outputs": [],
   "source": [
    "def matrix_matrix_multiplication(U, V):\n",
    "    assert U.shape[1] == V.shape[0]\n",
    "     \n",
    "    num_rows = U.shape[0]\n",
    "    num_columns = V.shape[1]\n",
    "     \n",
    "    result = np.zeros((num_rows, num_columns))\n",
    "     \n",
    "    for i in range(num_columns):\n",
    "        vi = V[:, i]\n",
    "        Uvi = matrix_vector_multiplication(U, vi)\n",
    "        result[:, i] = Uvi\n",
    "     \n",
    "    return result"
   ]
  },
  {
   "cell_type": "code",
   "execution_count": 9,
   "id": "cddb4faf-eaa1-40fc-acd1-8e6ad6c91d80",
   "metadata": {},
   "outputs": [
    {
     "data": {
      "text/plain": [
       "array([[14. , 25. , 13. ],\n",
       "       [ 5. ,  7. ,  5. ],\n",
       "       [ 5. , 10.5,  9. ]])"
      ]
     },
     "execution_count": 9,
     "metadata": {},
     "output_type": "execute_result"
    }
   ],
   "source": [
    "U = np.array([\n",
    "    [2, 4, 5, 6],\n",
    "    [1, 2, 1, 2],\n",
    "    [3, 1, 2, 1]\n",
    "])\n",
    " \n",
    "V = np.array([\n",
    "    [1, 1, 2],\n",
    "    [0, 0.5, 1],\n",
    "    [0, 3, 1],\n",
    "    [2, 1, 0]\n",
    "])\n",
    " \n",
    "matrix_matrix_multiplication(U, V)"
   ]
  },
  {
   "cell_type": "code",
   "execution_count": 10,
   "id": "4cdecce7-6617-4927-a4a0-b49eddc06afe",
   "metadata": {},
   "outputs": [
    {
     "data": {
      "text/plain": [
       "array([[14. , 25. , 13. ],\n",
       "       [ 5. ,  7. ,  5. ],\n",
       "       [ 5. , 10.5,  9. ]])"
      ]
     },
     "execution_count": 10,
     "metadata": {},
     "output_type": "execute_result"
    }
   ],
   "source": [
    "U.dot(V)"
   ]
  },
  {
   "cell_type": "markdown",
   "id": "d0521254-411a-4d71-aaa5-c2f241ef45c1",
   "metadata": {},
   "source": [
    "## Identity matrix"
   ]
  },
  {
   "cell_type": "code",
   "execution_count": 13,
   "id": "80f4fb25-21f6-4992-88ee-6a06e267711c",
   "metadata": {},
   "outputs": [],
   "source": [
    "I = np.eye(3)"
   ]
  },
  {
   "cell_type": "code",
   "execution_count": 14,
   "id": "f7074a1a-24fc-4376-abbf-d1e84d11b47a",
   "metadata": {},
   "outputs": [
    {
     "data": {
      "text/plain": [
       "array([[1. , 1. , 2. ],\n",
       "       [0. , 0.5, 1. ],\n",
       "       [0. , 3. , 1. ],\n",
       "       [2. , 1. , 0. ]])"
      ]
     },
     "execution_count": 14,
     "metadata": {},
     "output_type": "execute_result"
    }
   ],
   "source": [
    "V = np.array([\n",
    "    [1, 1, 2],\n",
    "    [0, 0.5, 1],\n",
    "    [0, 3, 1],\n",
    "    [2, 1, 0]\n",
    "])\n",
    " \n",
    "V.dot(I)"
   ]
  },
  {
   "cell_type": "code",
   "execution_count": 15,
   "id": "359d24f0-db02-4c65-9793-beea84383f17",
   "metadata": {},
   "outputs": [
    {
     "data": {
      "text/plain": [
       "array([[ True,  True,  True],\n",
       "       [ True,  True,  True],\n",
       "       [ True,  True,  True],\n",
       "       [ True,  True,  True]])"
      ]
     },
     "execution_count": 15,
     "metadata": {},
     "output_type": "execute_result"
    }
   ],
   "source": [
    "V.dot(I) == V"
   ]
  },
  {
   "cell_type": "markdown",
   "id": "f224fb39-1352-4d71-b3c0-0f3f77d25df5",
   "metadata": {},
   "source": [
    "## Inverse matrix"
   ]
  },
  {
   "cell_type": "code",
   "execution_count": 16,
   "id": "83d32801-59d2-4e3b-ac4a-3f41aa10b0df",
   "metadata": {},
   "outputs": [
    {
     "data": {
      "text/plain": [
       "array([[ 1. , -2. ,  0. ],\n",
       "       [ 0. , -0.4,  0.4],\n",
       "       [ 0. ,  1.2, -0.2]])"
      ]
     },
     "execution_count": 16,
     "metadata": {},
     "output_type": "execute_result"
    }
   ],
   "source": [
    "V = np.array([\n",
    "    [1, 1, 2],\n",
    "    [0, 0.5, 1],\n",
    "    [0, 3, 1]\n",
    "])\n",
    "\n",
    "V_inv = np.linalg.inv(V)\n",
    "V_inv"
   ]
  },
  {
   "cell_type": "markdown",
   "id": "f483712d-09bf-4be1-a7d4-2f16b23bc193",
   "metadata": {},
   "source": [
    "## Eigenvalues and Eigenvectors"
   ]
  },
  {
   "cell_type": "markdown",
   "id": "0b578299-a783-413c-928f-01aabcd3bce5",
   "metadata": {},
   "source": [
    "- An eigenvector of a matrix U is a non-zero vector that, when multiplied by U, yields a scalar multiple of itself. In other words, the eigenvector remains in the same direction, although its magnitude may change.\n",
    "- Mathematically, for a square matrix U and its corresponding eigenvector v, the equation for eigenvalues and eigenvectors is given by:\n",
    "\r\n",
    "U * v = λ * v"
   ]
  },
  {
   "cell_type": "code",
   "execution_count": null,
   "id": "d682e480-30e0-431c-83ad-54c32722a82a",
   "metadata": {},
   "outputs": [],
   "source": []
  }
 ],
 "metadata": {
  "kernelspec": {
   "display_name": "Python 3 (ipykernel)",
   "language": "python",
   "name": "python3"
  },
  "language_info": {
   "codemirror_mode": {
    "name": "ipython",
    "version": 3
   },
   "file_extension": ".py",
   "mimetype": "text/x-python",
   "name": "python",
   "nbconvert_exporter": "python",
   "pygments_lexer": "ipython3",
   "version": "3.12.4"
  }
 },
 "nbformat": 4,
 "nbformat_minor": 5
}
